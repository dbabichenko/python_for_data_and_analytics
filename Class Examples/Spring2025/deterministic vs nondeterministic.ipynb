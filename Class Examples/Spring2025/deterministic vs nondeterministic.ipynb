{
 "cells": [
  {
   "cell_type": "code",
   "execution_count": 2,
   "id": "ee4b2e0c-1a2d-4cd6-85ae-e7dfee6a040e",
   "metadata": {},
   "outputs": [],
   "source": [
    "def add_two_numbers(n1, n2):\n",
    "    return n1 + n2;"
   ]
  },
  {
   "cell_type": "code",
   "execution_count": 4,
   "id": "fccf74a2-900e-4709-8371-5b6e50346157",
   "metadata": {},
   "outputs": [
    {
     "data": {
      "text/plain": [
       "15"
      ]
     },
     "execution_count": 4,
     "metadata": {},
     "output_type": "execute_result"
    }
   ],
   "source": [
    "add_two_numbers(5, 10)"
   ]
  },
  {
   "cell_type": "code",
   "execution_count": 20,
   "id": "4ad3b38e-df5e-49d2-96e9-1783be5d2b4e",
   "metadata": {},
   "outputs": [],
   "source": [
    "l = [1, 2, 3, 4, 5, 6]\n",
    "\n",
    "def sum_list(n):\n",
    "    sum = 0\n",
    "    for item in l:\n",
    "        sum += (item * n)\n",
    "    return sum\n"
   ]
  },
  {
   "cell_type": "code",
   "execution_count": 22,
   "id": "21d4cea9-bc86-48f9-8c78-264456aad78c",
   "metadata": {},
   "outputs": [
    {
     "data": {
      "text/plain": [
       "210"
      ]
     },
     "execution_count": 22,
     "metadata": {},
     "output_type": "execute_result"
    }
   ],
   "source": [
    "sum_list(10)"
   ]
  }
 ],
 "metadata": {
  "kernelspec": {
   "display_name": "Python 3 (ipykernel)",
   "language": "python",
   "name": "python3"
  },
  "language_info": {
   "codemirror_mode": {
    "name": "ipython",
    "version": 3
   },
   "file_extension": ".py",
   "mimetype": "text/x-python",
   "name": "python",
   "nbconvert_exporter": "python",
   "pygments_lexer": "ipython3",
   "version": "3.12.4"
  }
 },
 "nbformat": 4,
 "nbformat_minor": 5
}
