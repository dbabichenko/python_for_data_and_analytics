{
 "cells": [
  {
   "cell_type": "code",
   "execution_count": 4,
   "id": "ca1caf88-a5ee-4d1f-a644-5ced16ba2966",
   "metadata": {
    "scrolled": true
   },
   "outputs": [
    {
     "name": "stdout",
     "output_type": "stream",
     "text": [
      "Hello world\n"
     ]
    }
   ],
   "source": [
    "print(\"Hello world\")"
   ]
  },
  {
   "cell_type": "code",
   "execution_count": 5,
   "id": "c3524498-8da2-4189-984c-44c053643393",
   "metadata": {},
   "outputs": [],
   "source": [
    "a = 10"
   ]
  },
  {
   "cell_type": "code",
   "execution_count": 6,
   "id": "f337d53d-0aba-4b4b-9c82-c735d77582b6",
   "metadata": {},
   "outputs": [
    {
     "name": "stdout",
     "output_type": "stream",
     "text": [
      "10\n"
     ]
    }
   ],
   "source": [
    "for x in range(0, 1000):\n",
    "    print(x)\n"
   ]
  },
  {
   "cell_type": "markdown",
   "id": "b0c90f5b-ebc1-4b18-92be-16f7e37150d8",
   "metadata": {},
   "source": [
    "# Hello\n",
    "## Welcome to INFSCI 510\n",
    "### You will hopefully learn a lot"
   ]
  },
  {
   "cell_type": "markdown",
   "id": "6dcbe223-d5dc-4625-8cac-615e715edba7",
   "metadata": {},
   "source": [
    "* Item 1\n",
    "* Item 2\n",
    "* Item 3\n",
    "\n",
    "\n",
    "**Bolded text**\n",
    "_Italic text_\n",
    "\n",
    "1. Number 1\n",
    "2. Num 2\n",
    "3. Num 3"
   ]
  },
  {
   "cell_type": "markdown",
   "id": "04d0b709-8677-4c94-b4f5-6b340ad4f142",
   "metadata": {},
   "source": [
    "<b>Some text</b>"
   ]
  },
  {
   "cell_type": "code",
   "execution_count": null,
   "id": "bf5f09e4-f327-4c4c-a1a3-5c377369f0bc",
   "metadata": {},
   "outputs": [],
   "source": []
  }
 ],
 "metadata": {
  "kernelspec": {
   "display_name": "Python 3 (ipykernel)",
   "language": "python",
   "name": "python3"
  },
  "language_info": {
   "codemirror_mode": {
    "name": "ipython",
    "version": 3
   },
   "file_extension": ".py",
   "mimetype": "text/x-python",
   "name": "python",
   "nbconvert_exporter": "python",
   "pygments_lexer": "ipython3",
   "version": "3.12.4"
  }
 },
 "nbformat": 4,
 "nbformat_minor": 5
}
