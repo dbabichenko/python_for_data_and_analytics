{
 "cells": [
  {
   "cell_type": "markdown",
   "metadata": {},
   "source": [
    "# Data Dictionary for Synthetic Patient Dataset\n",
    "\n",
    "| Column Name      | Data Type | Description |\n",
    "|-----------------|-----------|-------------|\n",
    "| `age`          | Integer   | Age of the patient (in years), ranging from 18 to 80. |\n",
    "| `gender`       | Integer   | Gender of the patient (0 = Female, 1 = Male). |\n",
    "| `smoking_years` | Integer   | Number of years the patient has been smoking (0 if they never smoked). |\n",
    "| `alcohol_years` | Integer   | Number of years the patient has been consuming alcohol (0 if they never drank). |\n",
    "| `systolic_bp`  | Float     | Systolic blood pressure of the patient (in mmHg). |\n",
    "| `diastolic_bp` | Float     | Diastolic blood pressure of the patient (in mmHg). |\n",
    "| `wbc`         | Float     | White blood cell count (WBC) in thousands per microliter (K/µL). |\n",
    "| `hgb`         | Float     | Hemoglobin (Hgb) level in grams per deciliter (g/dL). |\n",
    "| `plt_count`   | Float     | Platelet count (PLT) in thousands per microliter (K/µL). |\n",
    "| `cluster`      | Integer   | Cluster label indicating response to medication (1 = Responds, 2 = Does not respond). |\n"
   ]
  },
  {
   "cell_type": "markdown",
   "metadata": {},
   "source": []
  }
 ],
 "metadata": {
  "language_info": {
   "name": "python"
  }
 },
 "nbformat": 4,
 "nbformat_minor": 2
}
